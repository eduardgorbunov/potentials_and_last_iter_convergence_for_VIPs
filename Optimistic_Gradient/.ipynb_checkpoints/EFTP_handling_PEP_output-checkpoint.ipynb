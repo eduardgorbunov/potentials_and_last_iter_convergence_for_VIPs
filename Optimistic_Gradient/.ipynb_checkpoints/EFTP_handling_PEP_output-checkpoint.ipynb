{
 "cells": [
  {
   "cell_type": "code",
   "execution_count": 1,
   "metadata": {},
   "outputs": [],
   "source": [
    "import numpy as np\n",
    "from numpy.linalg import norm\n",
    "import pickle\n",
    "import matplotlib.pyplot as plt\n",
    "import copy\n",
    "import math\n",
    "import time\n",
    "import scipy\n",
    "from pathlib import Path\n",
    "import scipy.io\n",
    "\n",
    "%matplotlib inline"
   ]
  },
  {
   "cell_type": "markdown",
   "metadata": {},
   "source": [
    "# EFTP: analysis of $\\|F(x^N)\\|^2$"
   ]
  },
  {
   "cell_type": "markdown",
   "metadata": {},
   "source": [
    "## $L = 1, \\mu = 0$"
   ]
  },
  {
   "cell_type": "code",
   "execution_count": 3,
   "metadata": {},
   "outputs": [
    {
     "ename": "KeyError",
     "evalue": "'res_init_dist'",
     "output_type": "error",
     "traceback": [
      "\u001b[1;31m---------------------------------------------------------------------------\u001b[0m",
      "\u001b[1;31mKeyError\u001b[0m                                  Traceback (most recent call last)",
      "\u001b[1;32m<ipython-input-3-0cc06626c6ba>\u001b[0m in \u001b[0;36m<module>\u001b[1;34m\u001b[0m\n\u001b[0;32m     20\u001b[0m \u001b[1;31m#     res_8_points = scipy.io.loadmat('dump/OG_norm_8_points_L_'+str(int(L))+'_N_'+str(N+1)+'__'+gamma_str+'.mat')\u001b[0m\u001b[1;33m\u001b[0m\u001b[1;33m\u001b[0m\u001b[1;33m\u001b[0m\u001b[0m\n\u001b[0;32m     21\u001b[0m \u001b[1;31m#     worst_case_sq_norm_8_points = np.append(worst_case_sq_norm_8_points, res_8_points['res_norm'][0][0])\u001b[0m\u001b[1;33m\u001b[0m\u001b[1;33m\u001b[0m\u001b[1;33m\u001b[0m\u001b[0m\n\u001b[1;32m---> 22\u001b[1;33m     \u001b[0mguessed_upper_bound\u001b[0m \u001b[1;33m=\u001b[0m \u001b[0mnp\u001b[0m\u001b[1;33m.\u001b[0m\u001b[0mappend\u001b[0m\u001b[1;33m(\u001b[0m\u001b[0mguessed_upper_bound\u001b[0m\u001b[1;33m,\u001b[0m \u001b[1;36m16.0\u001b[0m\u001b[1;33m*\u001b[0m\u001b[0mL\u001b[0m\u001b[1;33m*\u001b[0m\u001b[0mres\u001b[0m\u001b[1;33m[\u001b[0m\u001b[1;34m'res_init_dist'\u001b[0m\u001b[1;33m]\u001b[0m\u001b[1;33m[\u001b[0m\u001b[1;36m0\u001b[0m\u001b[1;33m]\u001b[0m\u001b[1;33m[\u001b[0m\u001b[1;36m0\u001b[0m\u001b[1;33m]\u001b[0m\u001b[1;33m/\u001b[0m\u001b[1;33m(\u001b[0m\u001b[1;36m3\u001b[0m\u001b[1;33m*\u001b[0m\u001b[1;33m(\u001b[0m\u001b[0mN\u001b[0m\u001b[1;33m+\u001b[0m\u001b[1;36m2\u001b[0m\u001b[1;33m)\u001b[0m\u001b[1;33m)\u001b[0m\u001b[1;33m)\u001b[0m\u001b[1;33m\u001b[0m\u001b[1;33m\u001b[0m\u001b[0m\n\u001b[0m\u001b[0;32m     23\u001b[0m \u001b[1;33m\u001b[0m\u001b[0m\n\u001b[0;32m     24\u001b[0m \u001b[0mfig\u001b[0m \u001b[1;33m=\u001b[0m \u001b[0mplt\u001b[0m\u001b[1;33m.\u001b[0m\u001b[0mfigure\u001b[0m\u001b[1;33m(\u001b[0m\u001b[0mfigsize\u001b[0m\u001b[1;33m=\u001b[0m\u001b[1;33m(\u001b[0m\u001b[1;36m12\u001b[0m\u001b[1;33m,\u001b[0m\u001b[1;36m8\u001b[0m\u001b[1;33m)\u001b[0m\u001b[1;33m)\u001b[0m\u001b[1;33m\u001b[0m\u001b[1;33m\u001b[0m\u001b[0m\n",
      "\u001b[1;31mKeyError\u001b[0m: 'res_init_dist'"
     ]
    }
   ],
   "source": [
    "L = 1.0\n",
    "gamma = 1.0/(2*L)\n",
    "N_max = 40\n",
    "\n",
    "worst_case_sq_norm = np.array([])\n",
    "# worst_case_sq_norm_2_points = np.array([])\n",
    "# worst_case_sq_norm_4_points = np.array([])\n",
    "# worst_case_sq_norm_8_points = np.array([])\n",
    "guessed_upper_bound = np.array([])\n",
    "\n",
    "gamma_str = '%.6f' % gamma\n",
    "\n",
    "for N in range(N_max-1):\n",
    "    res = scipy.io.loadmat('dump/EFTP_norm_L_'+str(int(L))+'_N_'+str(N+2)+'__'+gamma_str+'.mat')\n",
    "    worst_case_sq_norm = np.append(worst_case_sq_norm, res['res_norm'][0][0])\n",
    "#     res_2_points = scipy.io.loadmat('dump/OG_norm_2_points_L_'+str(int(L))+'_N_'+str(N+1)+'__'+gamma_str+'.mat')\n",
    "#     worst_case_sq_norm_2_points = np.append(worst_case_sq_norm_2_points, res_2_points['res_norm'][0][0])\n",
    "#     res_4_points = scipy.io.loadmat('dump/OG_norm_4_points_L_'+str(int(L))+'_N_'+str(N+1)+'__'+gamma_str+'.mat')\n",
    "#     worst_case_sq_norm_4_points = np.append(worst_case_sq_norm_4_points, res_4_points['res_norm'][0][0])\n",
    "#     res_8_points = scipy.io.loadmat('dump/OG_norm_8_points_L_'+str(int(L))+'_N_'+str(N+1)+'__'+gamma_str+'.mat')\n",
    "#     worst_case_sq_norm_8_points = np.append(worst_case_sq_norm_8_points, res_8_points['res_norm'][0][0])\n",
    "    guessed_upper_bound = np.append(guessed_upper_bound, 16.0*L/(3*(N+2)))\n",
    "    \n",
    "fig = plt.figure(figsize=(12,8))\n",
    "plt.title(r\"Worst-case $||F(x^k)||^2$ for EFTP, $L = 1$, $\\gamma = \\frac{1}{2L}$\", fontsize=28)\n",
    "\n",
    "plt.semilogy(np.array(range(N_max))+1, worst_case_sq_norm, linewidth=2,\n",
    "             markersize = 12, marker = \"o\",\n",
    "             markevery=range(0, N_max, 10), color=\"forestgreen\",\n",
    "             label='PEP: all constraints')\n",
    "# plt.semilogy(np.array(range(N_max))+1, worst_case_sq_norm_2_points, linewidth=2,\n",
    "#              markersize = 12, marker = \"*\",\n",
    "#              markevery=range(2, N_max, 10), color=\"darkblue\",\n",
    "#              label='PEP: distance 2 constraints')\n",
    "# plt.semilogy(np.array(range(N_max))+1, worst_case_sq_norm_4_points, linewidth=2,\n",
    "#              markersize = 12, marker = \"^\",\n",
    "#              markevery=range(4, N_max, 10), color=\"purple\",\n",
    "#              label='PEP: distance 4 constraints')\n",
    "# plt.semilogy(np.array(range(N_max))+1, worst_case_sq_norm_8_points, linewidth=2,\n",
    "#              markersize = 12, marker = \">\",\n",
    "#              markevery=range(6, N_max, 10), color=\"orange\",\n",
    "#              label='PEP: distance 8 constraints')\n",
    "plt.semilogy(np.array(range(N_max))+1, guessed_upper_bound, linewidth=2, \n",
    "             markersize = 12, marker = \"d\",\n",
    "             markevery=range(8, N_max, 10), color=\"crimson\",\n",
    "             label=r'$\\frac{16L^2||x^0 - x^*||^2}{3k}$')\n",
    "\n",
    "\n",
    "plt.legend(loc='upper right', fontsize=23)\n",
    "plt.xlabel(r\"$k$\", fontsize=30)\n",
    "plt.ylabel(r\"$||F(x^k)||^2$\", fontsize=30)\n",
    "\n",
    "plt.xticks(fontsize=25)\n",
    "_ = plt.yticks(fontsize=25)\n",
    "\n",
    "plt.grid()\n",
    "\n",
    "ax = fig.gca()\n",
    "ax.xaxis.offsetText.set_fontsize(28)\n",
    "ax.yaxis.offsetText.set_fontsize(28)\n",
    "\n",
    "# ax.set_xscale('log')\n",
    "\n",
    "plt.savefig(\"plot/EFTP_norm_L_\"+str(L)+'_N_'+str(N_max)+\".pdf\", bbox_inches='tight')"
   ]
  },
  {
   "cell_type": "code",
   "execution_count": null,
   "metadata": {},
   "outputs": [],
   "source": []
  }
 ],
 "metadata": {
  "kernelspec": {
   "display_name": "Python 3",
   "language": "python",
   "name": "python3"
  },
  "language_info": {
   "codemirror_mode": {
    "name": "ipython",
    "version": 3
   },
   "file_extension": ".py",
   "mimetype": "text/x-python",
   "name": "python",
   "nbconvert_exporter": "python",
   "pygments_lexer": "ipython3",
   "version": "3.8.3"
  }
 },
 "nbformat": 4,
 "nbformat_minor": 4
}
